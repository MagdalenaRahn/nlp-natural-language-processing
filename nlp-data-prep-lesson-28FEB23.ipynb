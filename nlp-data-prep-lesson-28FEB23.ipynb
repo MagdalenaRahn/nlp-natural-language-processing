{
 "cells": [
  {
   "cell_type": "markdown",
   "id": "68b7e2f1",
   "metadata": {},
   "source": [
    "# Data Preparation Lesson\n",
    "\n",
    "28 February 2023, afternoon"
   ]
  },
  {
   "cell_type": "code",
   "execution_count": 1,
   "id": "2b4ff089",
   "metadata": {},
   "outputs": [],
   "source": [
    "#imports\n",
    "import unicodedata\n",
    "import re\n",
    "import json\n",
    "\n",
    "import nltk\n",
    "from nltk.tokenize.toktok import ToktokTokenizer\n",
    "from nltk.corpus import stopwords\n",
    "\n",
    "import pandas as pd\n"
   ]
  },
  {
   "cell_type": "code",
   "execution_count": 2,
   "id": "1b48ade3",
   "metadata": {},
   "outputs": [],
   "source": [
    "# original text\n",
    "\n",
    "ori = \"« Comme les richesses de ce monde sont périssables, il n’y a rien de solide que la vertu et le bonheur. » (Cette citation tirée de \\\n",
    "Candide nous en dit long sur la pensée idéaliste et épicurienne de Voltaire, qui démantèle les fondements d’une utopie basée sur le matérialisme… Une citation à ressortir !)\""
   ]
  },
  {
   "cell_type": "code",
   "execution_count": 3,
   "id": "2a82432b",
   "metadata": {},
   "outputs": [
    {
     "data": {
      "text/plain": [
       "'« comme les richesses de ce monde sont périssables, il n’y a rien de solide que la vertu et le bonheur. » (cette citation tirée de candide nous en dit long sur la pensée idéaliste et épicurienne de voltaire, qui démantèle les fondements d’une utopie basée sur le matérialisme… une citation à ressortir !)'"
      ]
     },
     "execution_count": 3,
     "metadata": {},
     "output_type": "execute_result"
    }
   ],
   "source": [
    "# lowercase everything : must do this, \n",
    "# otherwise 'remove special chars' step further down will drop capitalised letters\n",
    "\n",
    "ori = ori.lower()\n",
    "ori"
   ]
  },
  {
   "cell_type": "code",
   "execution_count": 4,
   "id": "5edfd9ff",
   "metadata": {},
   "outputs": [
    {
     "data": {
      "text/plain": [
       "' comme les richesses de ce monde sont perissables, il ny a rien de solide que la vertu et le bonheur.  (cette citation tiree de candide nous en dit long sur la pensee idealiste et epicurienne de voltaire, qui demantele les fondements dune utopie basee sur le materialisme... une citation a ressortir !)'"
      ]
     },
     "execution_count": 4,
     "metadata": {},
     "output_type": "execute_result"
    }
   ],
   "source": [
    "# change anyting special about the text, including accents\n",
    "\n",
    "import unicodedata\n",
    "\n",
    "ori = unicodedata.normalize('NFKD', ori).encode('ascii', 'ignore').decode('utf-8')\n",
    "ori"
   ]
  },
  {
   "cell_type": "markdown",
   "id": "d31a9944",
   "metadata": {},
   "source": [
    "### remove special characters "
   ]
  },
  {
   "cell_type": "code",
   "execution_count": 5,
   "id": "48547d02",
   "metadata": {},
   "outputs": [
    {
     "data": {
      "text/plain": [
       "' comme les richesses de ce monde sont perissables il ny a rien de solide que la vertu et le bonheur  cette citation tiree de candide nous en dit long sur la pensee idealiste et epicurienne de voltaire qui demantele les fondements dune utopie basee sur le materialisme une citation a ressortir '"
      ]
     },
     "execution_count": 5,
     "metadata": {},
     "output_type": "execute_result"
    }
   ],
   "source": [
    "# remove special characters (punctuation)\n",
    "\n",
    "import re\n",
    "\n",
    "ori = re.sub(r'[^a-z0-9\\s]','',ori)\n",
    "ori"
   ]
  },
  {
   "cell_type": "markdown",
   "id": "8577c26e",
   "metadata": {},
   "source": [
    "### tokenize"
   ]
  },
  {
   "cell_type": "code",
   "execution_count": 6,
   "id": "ab2414c7",
   "metadata": {},
   "outputs": [],
   "source": [
    "import nltk"
   ]
  },
  {
   "cell_type": "code",
   "execution_count": 7,
   "id": "9b661f08",
   "metadata": {},
   "outputs": [
    {
     "data": {
      "text/plain": [
       "<nltk.tokenize.toktok.ToktokTokenizer at 0x1422c85b0>"
      ]
     },
     "execution_count": 7,
     "metadata": {},
     "output_type": "execute_result"
    }
   ],
   "source": [
    "# #tokeniser object\n",
    "\n",
    "# breaks things up more, into tokens (single pieces)\n",
    "# allows them to be fed into stemmers / lemmatisers\n",
    "\n",
    "tok = nltk.tokenize.ToktokTokenizer()\n",
    "tok"
   ]
  },
  {
   "cell_type": "code",
   "execution_count": 8,
   "id": "6e4f0b86",
   "metadata": {},
   "outputs": [
    {
     "data": {
      "text/plain": [
       "['comme',\n",
       " 'les',\n",
       " 'richesses',\n",
       " 'de',\n",
       " 'ce',\n",
       " 'monde',\n",
       " 'sont',\n",
       " 'perissables',\n",
       " 'il',\n",
       " 'ny',\n",
       " 'a',\n",
       " 'rien',\n",
       " 'de',\n",
       " 'solide',\n",
       " 'que',\n",
       " 'la',\n",
       " 'vertu',\n",
       " 'et',\n",
       " 'le',\n",
       " 'bonheur',\n",
       " 'cette',\n",
       " 'citation',\n",
       " 'tiree',\n",
       " 'de',\n",
       " 'candide',\n",
       " 'nous',\n",
       " 'en',\n",
       " 'dit',\n",
       " 'long',\n",
       " 'sur',\n",
       " 'la',\n",
       " 'pensee',\n",
       " 'idealiste',\n",
       " 'et',\n",
       " 'epicurienne',\n",
       " 'de',\n",
       " 'voltaire',\n",
       " 'qui',\n",
       " 'demantele',\n",
       " 'les',\n",
       " 'fondements',\n",
       " 'dune',\n",
       " 'utopie',\n",
       " 'basee',\n",
       " 'sur',\n",
       " 'le',\n",
       " 'materialisme',\n",
       " 'une',\n",
       " 'citation',\n",
       " 'a',\n",
       " 'ressortir']"
      ]
     },
     "execution_count": 8,
     "metadata": {},
     "output_type": "execute_result"
    }
   ],
   "source": [
    "# each token\n",
    "\n",
    "ori = tok.tokenize(ori)\n",
    "ori"
   ]
  },
  {
   "cell_type": "markdown",
   "id": "8b36950d",
   "metadata": {},
   "source": [
    "### stemming and lemmatising\n",
    "\n",
    "Don't do both to the same piece of text."
   ]
  },
  {
   "cell_type": "markdown",
   "id": "f7f126c9",
   "metadata": {},
   "source": [
    "### stemming"
   ]
  },
  {
   "cell_type": "code",
   "execution_count": 9,
   "id": "e73ee04b",
   "metadata": {},
   "outputs": [
    {
     "data": {
      "text/plain": [
       "<PorterStemmer>"
      ]
     },
     "execution_count": 9,
     "metadata": {},
     "output_type": "execute_result"
    }
   ],
   "source": [
    "ps = nltk.porter.PorterStemmer()\n",
    "ps"
   ]
  },
  {
   "cell_type": "code",
   "execution_count": 10,
   "id": "52b9a21e",
   "metadata": {},
   "outputs": [
    {
     "data": {
      "text/plain": [
       "('materialism', 'materialist', 'materi')"
      ]
     },
     "execution_count": 10,
     "metadata": {},
     "output_type": "execute_result"
    }
   ],
   "source": [
    "ps.stem('materialisme'), ps.stem('materialiste'), ps.stem('material')\n",
    "\n",
    "# an aggressive stemmer"
   ]
  },
  {
   "cell_type": "code",
   "execution_count": 11,
   "id": "76228f88",
   "metadata": {},
   "outputs": [
    {
     "data": {
      "text/plain": [
       "('build', 'built', 'builder')"
      ]
     },
     "execution_count": 11,
     "metadata": {},
     "output_type": "execute_result"
    }
   ],
   "source": [
    "ps.stem('building'), ps.stem('built'), ps.stem('builder')"
   ]
  },
  {
   "cell_type": "code",
   "execution_count": 12,
   "id": "b6d36049",
   "metadata": {},
   "outputs": [
    {
     "data": {
      "text/plain": [
       "['comm',\n",
       " 'le',\n",
       " 'richess',\n",
       " 'de',\n",
       " 'ce',\n",
       " 'mond',\n",
       " 'sont',\n",
       " 'periss',\n",
       " 'il',\n",
       " 'ny',\n",
       " 'a',\n",
       " 'rien',\n",
       " 'de',\n",
       " 'solid',\n",
       " 'que',\n",
       " 'la',\n",
       " 'vertu',\n",
       " 'et',\n",
       " 'le',\n",
       " 'bonheur',\n",
       " 'cett',\n",
       " 'citat',\n",
       " 'tire',\n",
       " 'de',\n",
       " 'candid',\n",
       " 'nou',\n",
       " 'en',\n",
       " 'dit',\n",
       " 'long',\n",
       " 'sur',\n",
       " 'la',\n",
       " 'pense',\n",
       " 'idealist',\n",
       " 'et',\n",
       " 'epicurienn',\n",
       " 'de',\n",
       " 'voltair',\n",
       " 'qui',\n",
       " 'demantel',\n",
       " 'le',\n",
       " 'fondement',\n",
       " 'dune',\n",
       " 'utopi',\n",
       " 'base',\n",
       " 'sur',\n",
       " 'le',\n",
       " 'materialism',\n",
       " 'une',\n",
       " 'citat',\n",
       " 'a',\n",
       " 'ressortir']"
      ]
     },
     "execution_count": 12,
     "metadata": {},
     "output_type": "execute_result"
    }
   ],
   "source": [
    "[ps.stem(word) for word in ori]"
   ]
  },
  {
   "cell_type": "code",
   "execution_count": 13,
   "id": "3ee366d3",
   "metadata": {},
   "outputs": [
    {
     "data": {
      "text/plain": [
       "'comm le richess de ce mond sont periss il ny a rien de solid que la vertu et le bonheur cett citat tire de candid nou en dit long sur la pense idealist et epicurienn de voltair qui demantel le fondement dune utopi base sur le materialism une citat a ressortir'"
      ]
     },
     "execution_count": 13,
     "metadata": {},
     "output_type": "execute_result"
    }
   ],
   "source": [
    "# stemming the original phrase as a phrase\n",
    "\n",
    "stems = [ps.stem(word) for word in ori]\n",
    "' '.join(stems)"
   ]
  },
  {
   "cell_type": "markdown",
   "id": "8dff7fc8",
   "metadata": {},
   "source": [
    "### lemmatise"
   ]
  },
  {
   "cell_type": "code",
   "execution_count": 14,
   "id": "f936a5e2",
   "metadata": {},
   "outputs": [],
   "source": [
    "# run this once then never again : provides standardised vocab\n",
    "\n",
    "# nltk.download('all')"
   ]
  },
  {
   "cell_type": "code",
   "execution_count": 15,
   "id": "90a97121",
   "metadata": {},
   "outputs": [
    {
     "data": {
      "text/plain": [
       "<WordNetLemmatizer>"
      ]
     },
     "execution_count": 15,
     "metadata": {},
     "output_type": "execute_result"
    }
   ],
   "source": [
    "# lemmatiser obj\n",
    "wln = nltk.stem.WordNetLemmatizer()\n",
    "wln"
   ]
  },
  {
   "cell_type": "code",
   "execution_count": 16,
   "id": "c4f51eb3",
   "metadata": {},
   "outputs": [
    {
     "data": {
      "text/plain": [
       "('materialisme', 'materialiste', 'material')"
      ]
     },
     "execution_count": 16,
     "metadata": {},
     "output_type": "execute_result"
    }
   ],
   "source": [
    "wln.lemmatize('materialisme'), wln.lemmatize('materialiste'), wln.lemmatize('material')"
   ]
  },
  {
   "cell_type": "code",
   "execution_count": 17,
   "id": "21b6ec3a",
   "metadata": {},
   "outputs": [
    {
     "data": {
      "text/plain": [
       "('builder', 'built', 'building')"
      ]
     },
     "execution_count": 17,
     "metadata": {},
     "output_type": "execute_result"
    }
   ],
   "source": [
    "wln.lemmatize('builder'), wln.lemmatize('built'), wln.lemmatize('building')"
   ]
  },
  {
   "cell_type": "code",
   "execution_count": 18,
   "id": "fa9cf42e",
   "metadata": {},
   "outputs": [
    {
     "data": {
      "text/plain": [
       "('mous', 'mice')"
      ]
     },
     "execution_count": 18,
     "metadata": {},
     "output_type": "execute_result"
    }
   ],
   "source": [
    "ps.stem('mouse'), ps.stem('mice')"
   ]
  },
  {
   "cell_type": "code",
   "execution_count": 19,
   "id": "02070fe6",
   "metadata": {},
   "outputs": [
    {
     "data": {
      "text/plain": [
       "('mouse', 'mouse')"
      ]
     },
     "execution_count": 19,
     "metadata": {},
     "output_type": "execute_result"
    }
   ],
   "source": [
    "wln.lemmatize('mouse'), wln.lemmatize('mice')"
   ]
  },
  {
   "cell_type": "code",
   "execution_count": 20,
   "id": "c21b9aef",
   "metadata": {},
   "outputs": [
    {
     "data": {
      "text/plain": [
       "'comme le riches de ce monde sont perissables il ny a rien de solide que la vertu et le bonheur cette citation tiree de candide nous en dit long sur la pensee idealiste et epicurienne de voltaire qui demantele le fondements dune utopie basee sur le materialisme une citation a ressortir'"
      ]
     },
     "execution_count": 20,
     "metadata": {},
     "output_type": "execute_result"
    }
   ],
   "source": [
    "# lemmatise the words and join and as phrase\n",
    "\n",
    "lemmas = [wln.lemmatize(word) for word in ori]\n",
    "' '.join(lemmas)"
   ]
  },
  {
   "cell_type": "code",
   "execution_count": 21,
   "id": "b1435f22",
   "metadata": {},
   "outputs": [],
   "source": [
    "#### look at nlp entity recognition : gives context to words in nlp"
   ]
  },
  {
   "cell_type": "markdown",
   "id": "97608f5e",
   "metadata": {},
   "source": [
    "### remove stopwords"
   ]
  },
  {
   "cell_type": "code",
   "execution_count": 22,
   "id": "2107d847",
   "metadata": {},
   "outputs": [],
   "source": [
    "from nltk.corpus import stopwords"
   ]
  },
  {
   "cell_type": "code",
   "execution_count": 23,
   "id": "e6da57a7",
   "metadata": {},
   "outputs": [
    {
     "name": "stderr",
     "output_type": "stream",
     "text": [
      "[nltk_data] Downloading package stopwords to\n",
      "[nltk_data]     /Users/magdalenarahn/nltk_data...\n",
      "[nltk_data]   Package stopwords is already up-to-date!\n"
     ]
    },
    {
     "data": {
      "text/plain": [
       "True"
      ]
     },
     "execution_count": 23,
     "metadata": {},
     "output_type": "execute_result"
    }
   ],
   "source": [
    "# do this once\n",
    "nltk.download('stopwords')"
   ]
  },
  {
   "cell_type": "code",
   "execution_count": 24,
   "id": "7a98697c",
   "metadata": {},
   "outputs": [
    {
     "data": {
      "text/plain": [
       "['au',\n",
       " 'aux',\n",
       " 'avec',\n",
       " 'ce',\n",
       " 'ces',\n",
       " 'dans',\n",
       " 'de',\n",
       " 'des',\n",
       " 'du',\n",
       " 'elle',\n",
       " 'en',\n",
       " 'et',\n",
       " 'eux',\n",
       " 'il',\n",
       " 'ils',\n",
       " 'je',\n",
       " 'la',\n",
       " 'le',\n",
       " 'les',\n",
       " 'leur',\n",
       " 'lui',\n",
       " 'ma',\n",
       " 'mais',\n",
       " 'me',\n",
       " 'même',\n",
       " 'mes',\n",
       " 'moi',\n",
       " 'mon',\n",
       " 'ne',\n",
       " 'nos',\n",
       " 'notre',\n",
       " 'nous',\n",
       " 'on',\n",
       " 'ou',\n",
       " 'par',\n",
       " 'pas',\n",
       " 'pour',\n",
       " 'qu',\n",
       " 'que',\n",
       " 'qui',\n",
       " 'sa',\n",
       " 'se',\n",
       " 'ses',\n",
       " 'son',\n",
       " 'sur',\n",
       " 'ta',\n",
       " 'te',\n",
       " 'tes',\n",
       " 'toi',\n",
       " 'ton',\n",
       " 'tu',\n",
       " 'un',\n",
       " 'une',\n",
       " 'vos',\n",
       " 'votre',\n",
       " 'vous',\n",
       " 'c',\n",
       " 'd',\n",
       " 'j',\n",
       " 'l',\n",
       " 'à',\n",
       " 'm',\n",
       " 'n',\n",
       " 's',\n",
       " 't',\n",
       " 'y',\n",
       " 'été',\n",
       " 'étée',\n",
       " 'étées',\n",
       " 'étés',\n",
       " 'étant',\n",
       " 'étante',\n",
       " 'étants',\n",
       " 'étantes',\n",
       " 'suis',\n",
       " 'es',\n",
       " 'est',\n",
       " 'sommes',\n",
       " 'êtes',\n",
       " 'sont',\n",
       " 'serai',\n",
       " 'seras',\n",
       " 'sera',\n",
       " 'serons',\n",
       " 'serez',\n",
       " 'seront',\n",
       " 'serais',\n",
       " 'serait',\n",
       " 'serions',\n",
       " 'seriez',\n",
       " 'seraient',\n",
       " 'étais',\n",
       " 'était',\n",
       " 'étions',\n",
       " 'étiez',\n",
       " 'étaient',\n",
       " 'fus',\n",
       " 'fut',\n",
       " 'fûmes',\n",
       " 'fûtes',\n",
       " 'furent',\n",
       " 'sois',\n",
       " 'soit',\n",
       " 'soyons',\n",
       " 'soyez',\n",
       " 'soient',\n",
       " 'fusse',\n",
       " 'fusses',\n",
       " 'fût',\n",
       " 'fussions',\n",
       " 'fussiez',\n",
       " 'fussent',\n",
       " 'ayant',\n",
       " 'ayante',\n",
       " 'ayantes',\n",
       " 'ayants',\n",
       " 'eu',\n",
       " 'eue',\n",
       " 'eues',\n",
       " 'eus',\n",
       " 'ai',\n",
       " 'as',\n",
       " 'avons',\n",
       " 'avez',\n",
       " 'ont',\n",
       " 'aurai',\n",
       " 'auras',\n",
       " 'aura',\n",
       " 'aurons',\n",
       " 'aurez',\n",
       " 'auront',\n",
       " 'aurais',\n",
       " 'aurait',\n",
       " 'aurions',\n",
       " 'auriez',\n",
       " 'auraient',\n",
       " 'avais',\n",
       " 'avait',\n",
       " 'avions',\n",
       " 'aviez',\n",
       " 'avaient',\n",
       " 'eut',\n",
       " 'eûmes',\n",
       " 'eûtes',\n",
       " 'eurent',\n",
       " 'aie',\n",
       " 'aies',\n",
       " 'ait',\n",
       " 'ayons',\n",
       " 'ayez',\n",
       " 'aient',\n",
       " 'eusse',\n",
       " 'eusses',\n",
       " 'eût',\n",
       " 'eussions',\n",
       " 'eussiez',\n",
       " 'eussent']"
      ]
     },
     "execution_count": 24,
     "metadata": {},
     "output_type": "execute_result"
    }
   ],
   "source": [
    "# stopwords \n",
    "\n",
    "stopwords_eng = stopwords.words('french')\n",
    "stopwords_eng"
   ]
  },
  {
   "cell_type": "code",
   "execution_count": 25,
   "id": "712626ff",
   "metadata": {},
   "outputs": [
    {
     "data": {
      "text/plain": [
       "157"
      ]
     },
     "execution_count": 25,
     "metadata": {},
     "output_type": "execute_result"
    }
   ],
   "source": [
    "# length of stopwords\n",
    "\n",
    "len(stopwords_eng)"
   ]
  },
  {
   "cell_type": "code",
   "execution_count": 26,
   "id": "423572e4",
   "metadata": {},
   "outputs": [],
   "source": [
    "# appending to variable list\n",
    "\n",
    "stopwords_eng.append('o')\n"
   ]
  },
  {
   "cell_type": "code",
   "execution_count": 27,
   "id": "1ab25260",
   "metadata": {},
   "outputs": [
    {
     "data": {
      "text/plain": [
       "'o'"
      ]
     },
     "execution_count": 27,
     "metadata": {},
     "output_type": "execute_result"
    }
   ],
   "source": [
    "# checking to see that it's been added to variable list\n",
    "\n",
    "stopwords_eng[-1]"
   ]
  },
  {
   "cell_type": "code",
   "execution_count": 28,
   "id": "773a9d28",
   "metadata": {},
   "outputs": [],
   "source": [
    "# if punctuation hadn't been removed...\n",
    "\n",
    "stopwords_eng.append(\"'\")"
   ]
  },
  {
   "cell_type": "code",
   "execution_count": 29,
   "id": "300602a3",
   "metadata": {},
   "outputs": [
    {
     "data": {
      "text/plain": [
       "'comme richesses monde perissables ny a rien solide vertu bonheur cette citation tiree candide dit long pensee idealiste epicurienne voltaire demantele fondements dune utopie basee materialisme citation a ressortir'"
      ]
     },
     "execution_count": 29,
     "metadata": {},
     "output_type": "execute_result"
    }
   ],
   "source": [
    "ori_w_stopwords_removed = [word for word in ori if word not in stopwords_eng]\n",
    "' '.join(ori_w_stopwords_removed)"
   ]
  },
  {
   "cell_type": "code",
   "execution_count": 30,
   "id": "9572cfcd",
   "metadata": {},
   "outputs": [
    {
     "data": {
      "text/plain": [
       "51"
      ]
     },
     "execution_count": 30,
     "metadata": {},
     "output_type": "execute_result"
    }
   ],
   "source": [
    "len(ori)"
   ]
  }
 ],
 "metadata": {
  "kernelspec": {
   "display_name": "Python 3 (ipykernel)",
   "language": "python",
   "name": "python3"
  },
  "language_info": {
   "codemirror_mode": {
    "name": "ipython",
    "version": 3
   },
   "file_extension": ".py",
   "mimetype": "text/x-python",
   "name": "python",
   "nbconvert_exporter": "python",
   "pygments_lexer": "ipython3",
   "version": "3.9.13"
  }
 },
 "nbformat": 4,
 "nbformat_minor": 5
}
