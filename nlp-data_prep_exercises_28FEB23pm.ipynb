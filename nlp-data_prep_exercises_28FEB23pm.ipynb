{
 "cells": [
  {
   "cell_type": "code",
   "execution_count": 1,
   "id": "967215be",
   "metadata": {},
   "outputs": [],
   "source": [
    "#imports\n",
    "import unicodedata\n",
    "import re\n",
    "import json\n",
    "\n",
    "import nltk\n",
    "from nltk.tokenize.toktok import ToktokTokenizer\n",
    "from nltk.corpus import stopwords\n",
    "\n",
    "import pandas as pd"
   ]
  },
  {
   "cell_type": "markdown",
   "id": "0f1080eb",
   "metadata": {},
   "source": [
    "### 1/ The end result of this exercise should be a file named ```prepare.py``` that defines the requested functions.\n",
    "\n",
    "In this exercise we will be defining some functions to prepare textual data. These functions should apply equally well to both the codeup blog articles and the news articles that were previously acquired.\n",
    "\n",
    "Define a function named ```basic_clean```. It should take in a string and apply some basic text cleaning to it:  \n",
    "        Lowercase everything  \n",
    "        Normalize unicode characters  \n",
    "        Replace anything that is not a letter, number, whitespace or a single quote.  \n"
   ]
  },
  {
   "cell_type": "code",
   "execution_count": 2,
   "id": "97ae958b",
   "metadata": {},
   "outputs": [
    {
     "data": {
      "text/plain": [
       "'Good rain knows the right time / To fall when spring comes / And follows the wind in the night / Silently, moistening every thing / A wild path black and cloudy / A riverboat fire alone and bright / Dawn has the look that is red and wet / In Brocade City, Guancheng* / \"Spring Night, Happy Rain\" by Du Fu, written in Chengdu, 759 – 763, during the An Lushan Rebellion.'"
      ]
     },
     "execution_count": 2,
     "metadata": {},
     "output_type": "execute_result"
    }
   ],
   "source": [
    "# le texte (un poème)\n",
    "\n",
    "mots = 'Good rain knows the right time / To fall when spring comes / And follows the wind in the night / Silently, moistening every thing / A wild path black and cloudy / A riverboat fire alone and bright / Dawn has the look that is red and wet / In Brocade City, Guancheng* / \"Spring Night, Happy Rain\" by Du Fu, written in Chengdu, 759 – 763, during the An Lushan Rebellion.'\n",
    "\n",
    "mots"
   ]
  },
  {
   "cell_type": "code",
   "execution_count": 3,
   "id": "f203f8b9",
   "metadata": {},
   "outputs": [],
   "source": [
    "# lowercasing\n",
    "\n",
    "mots = mots.lower()"
   ]
  },
  {
   "cell_type": "code",
   "execution_count": 4,
   "id": "1edf9d29",
   "metadata": {},
   "outputs": [
    {
     "data": {
      "text/plain": [
       "'good rain knows the right time / to fall when spring comes / and follows the wind in the night / silently, moistening every thing / a wild path black and cloudy / a riverboat fire alone and bright / dawn has the look that is red and wet / in brocade city, guancheng* / \"spring night, happy rain\" by du fu, written in chengdu, 759  763, during the an lushan rebellion.'"
      ]
     },
     "execution_count": 4,
     "metadata": {},
     "output_type": "execute_result"
    }
   ],
   "source": [
    "# removing accents, etc : normalisation\n",
    "\n",
    "mots = unicodedata.normalize('NFKD', mots).encode('ascii', 'ignore').decode('utf-8')\n",
    "mots"
   ]
  },
  {
   "cell_type": "code",
   "execution_count": 5,
   "id": "902450b1",
   "metadata": {},
   "outputs": [
    {
     "data": {
      "text/plain": [
       "'good rain knows the right time   to fall when spring comes   and follows the wind in the night   silently  moistening every thing   a wild path black and cloudy   a riverboat fire alone and bright   dawn has the look that is red and wet   in brocade city  guancheng     spring night  happy rain  by du fu  written in chengdu  759  763  during the an lushan rebellion '"
      ]
     },
     "execution_count": 5,
     "metadata": {},
     "output_type": "execute_result"
    }
   ],
   "source": [
    "# remove special characters (punctuation)\n",
    "\n",
    "mots = re.sub(r'[^a-z0-9\\s]',' ',mots)\n",
    "mots"
   ]
  },
  {
   "cell_type": "code",
   "execution_count": 6,
   "id": "326b6180",
   "metadata": {},
   "outputs": [],
   "source": [
    "# function to clean a phrase\n",
    "\n",
    "def basic_clean(mots):\n",
    "    \n",
    "    '''\n",
    "    this function takes in a string, then \n",
    "    prepares it for parsing by lowercasing, \n",
    "    normalising and removing special characters\n",
    "    '''\n",
    "    \n",
    "    # lowercasing\n",
    "    mots = mots.lower()\n",
    "    \n",
    "    # removing accents, etc : normalisation\n",
    "    mots = unicodedata.normalize('NFKD', mots).encode('ascii', 'ignore').decode('utf-8')\n",
    "    \n",
    "    # remove special characters (punctuation)\n",
    "    mots = re.sub(r'[^a-z0-9\\s]',' ',mots)\n",
    "\n",
    "    return mots"
   ]
  },
  {
   "cell_type": "code",
   "execution_count": 7,
   "id": "bc7bf403",
   "metadata": {},
   "outputs": [
    {
     "data": {
      "text/plain": [
       "'good rain knows the right time   to fall when spring comes   and follows the wind in the night   silently  moistening every thing   a wild path black and cloudy   a riverboat fire alone and bright   dawn has the look that is red and wet   in brocade city  guancheng     spring night  happy rain  by du fu  written in chengdu  759  763  during the an lushan rebellion '"
      ]
     },
     "execution_count": 7,
     "metadata": {},
     "output_type": "execute_result"
    }
   ],
   "source": [
    "# the function\n",
    "\n",
    "basic_clean(mots)"
   ]
  },
  {
   "cell_type": "markdown",
   "id": "19fbf0e3",
   "metadata": {},
   "source": [
    "### 2/ Define a function named tokenize. It should take in a string and tokenize all the words in the string.\n"
   ]
  },
  {
   "cell_type": "code",
   "execution_count": 8,
   "id": "5a20ee25",
   "metadata": {},
   "outputs": [
    {
     "data": {
      "text/plain": [
       "<nltk.tokenize.toktok.ToktokTokenizer at 0x163587fd0>"
      ]
     },
     "execution_count": 8,
     "metadata": {},
     "output_type": "execute_result"
    }
   ],
   "source": [
    "#tokeniser object\n",
    "\n",
    "tok = nltk.tokenize.ToktokTokenizer()\n",
    "tok"
   ]
  },
  {
   "cell_type": "code",
   "execution_count": 9,
   "id": "29f294eb",
   "metadata": {},
   "outputs": [
    {
     "data": {
      "text/plain": [
       "['good',\n",
       " 'rain',\n",
       " 'knows',\n",
       " 'the',\n",
       " 'right',\n",
       " 'time',\n",
       " 'to',\n",
       " 'fall',\n",
       " 'when',\n",
       " 'spring',\n",
       " 'comes',\n",
       " 'and',\n",
       " 'follows',\n",
       " 'the',\n",
       " 'wind',\n",
       " 'in',\n",
       " 'the',\n",
       " 'night',\n",
       " 'silently',\n",
       " 'moistening',\n",
       " 'every',\n",
       " 'thing',\n",
       " 'a',\n",
       " 'wild',\n",
       " 'path',\n",
       " 'black',\n",
       " 'and',\n",
       " 'cloudy',\n",
       " 'a',\n",
       " 'riverboat',\n",
       " 'fire',\n",
       " 'alone',\n",
       " 'and',\n",
       " 'bright',\n",
       " 'dawn',\n",
       " 'has',\n",
       " 'the',\n",
       " 'look',\n",
       " 'that',\n",
       " 'is',\n",
       " 'red',\n",
       " 'and',\n",
       " 'wet',\n",
       " 'in',\n",
       " 'brocade',\n",
       " 'city',\n",
       " 'guancheng',\n",
       " 'spring',\n",
       " 'night',\n",
       " 'happy',\n",
       " 'rain',\n",
       " 'by',\n",
       " 'du',\n",
       " 'fu',\n",
       " 'written',\n",
       " 'in',\n",
       " 'chengdu',\n",
       " '759',\n",
       " '763',\n",
       " 'during',\n",
       " 'the',\n",
       " 'an',\n",
       " 'lushan',\n",
       " 'rebellion']"
      ]
     },
     "execution_count": 9,
     "metadata": {},
     "output_type": "execute_result"
    }
   ],
   "source": [
    "# each token\n",
    "\n",
    "mots = tok.tokenize(mots)\n",
    "mots"
   ]
  },
  {
   "cell_type": "code",
   "execution_count": 10,
   "id": "d98684c5",
   "metadata": {},
   "outputs": [],
   "source": [
    "# tokeniser function\n",
    "\n",
    "def tokenise(mots):\n",
    "    \n",
    "    '''this function takes in a cleaned\n",
    "    string and breaks it down into tokens\n",
    "    for nlp stemming and lemmatising\n",
    "    '''\n",
    "    #tokeniser object\n",
    "    tok = nltk.tokenize.ToktokTokenizer()\n",
    "    \n",
    "    # each token\n",
    "    mots = tok.tokenize(mots)\n",
    "    \n",
    "    return mots"
   ]
  },
  {
   "cell_type": "code",
   "execution_count": 11,
   "id": "59f3a171",
   "metadata": {
    "scrolled": true
   },
   "outputs": [
    {
     "data": {
      "text/plain": [
       "['[',\n",
       " \"'\",\n",
       " 'good',\n",
       " \"'\",\n",
       " ',',\n",
       " \"'\",\n",
       " 'rain',\n",
       " \"'\",\n",
       " ',',\n",
       " \"'\",\n",
       " 'knows',\n",
       " \"'\",\n",
       " ',',\n",
       " \"'\",\n",
       " 'the',\n",
       " \"'\",\n",
       " ',',\n",
       " \"'\",\n",
       " 'right',\n",
       " \"'\",\n",
       " ',',\n",
       " \"'\",\n",
       " 'time',\n",
       " \"'\",\n",
       " ',',\n",
       " \"'\",\n",
       " 'to',\n",
       " \"'\",\n",
       " ',',\n",
       " \"'\",\n",
       " 'fall',\n",
       " \"'\",\n",
       " ',',\n",
       " \"'\",\n",
       " 'when',\n",
       " \"'\",\n",
       " ',',\n",
       " \"'\",\n",
       " 'spring',\n",
       " \"'\",\n",
       " ',',\n",
       " \"'\",\n",
       " 'comes',\n",
       " \"'\",\n",
       " ',',\n",
       " \"'\",\n",
       " 'and',\n",
       " \"'\",\n",
       " ',',\n",
       " \"'\",\n",
       " 'follows',\n",
       " \"'\",\n",
       " ',',\n",
       " \"'\",\n",
       " 'the',\n",
       " \"'\",\n",
       " ',',\n",
       " \"'\",\n",
       " 'wind',\n",
       " \"'\",\n",
       " ',',\n",
       " \"'\",\n",
       " 'in',\n",
       " \"'\",\n",
       " ',',\n",
       " \"'\",\n",
       " 'the',\n",
       " \"'\",\n",
       " ',',\n",
       " \"'\",\n",
       " 'night',\n",
       " \"'\",\n",
       " ',',\n",
       " \"'\",\n",
       " 'silently',\n",
       " \"'\",\n",
       " ',',\n",
       " \"'\",\n",
       " 'moistening',\n",
       " \"'\",\n",
       " ',',\n",
       " \"'\",\n",
       " 'every',\n",
       " \"'\",\n",
       " ',',\n",
       " \"'\",\n",
       " 'thing',\n",
       " \"'\",\n",
       " ',',\n",
       " \"'\",\n",
       " 'a',\n",
       " \"'\",\n",
       " ',',\n",
       " \"'\",\n",
       " 'wild',\n",
       " \"'\",\n",
       " ',',\n",
       " \"'\",\n",
       " 'path',\n",
       " \"'\",\n",
       " ',',\n",
       " \"'\",\n",
       " 'black',\n",
       " \"'\",\n",
       " ',',\n",
       " \"'\",\n",
       " 'and',\n",
       " \"'\",\n",
       " ',',\n",
       " \"'\",\n",
       " 'cloudy',\n",
       " \"'\",\n",
       " ',',\n",
       " \"'\",\n",
       " 'a',\n",
       " \"'\",\n",
       " ',',\n",
       " \"'\",\n",
       " 'riverboat',\n",
       " \"'\",\n",
       " ',',\n",
       " \"'\",\n",
       " 'fire',\n",
       " \"'\",\n",
       " ',',\n",
       " \"'\",\n",
       " 'alone',\n",
       " \"'\",\n",
       " ',',\n",
       " \"'\",\n",
       " 'and',\n",
       " \"'\",\n",
       " ',',\n",
       " \"'\",\n",
       " 'bright',\n",
       " \"'\",\n",
       " ',',\n",
       " \"'\",\n",
       " 'dawn',\n",
       " \"'\",\n",
       " ',',\n",
       " \"'\",\n",
       " 'has',\n",
       " \"'\",\n",
       " ',',\n",
       " \"'\",\n",
       " 'the',\n",
       " \"'\",\n",
       " ',',\n",
       " \"'\",\n",
       " 'look',\n",
       " \"'\",\n",
       " ',',\n",
       " \"'\",\n",
       " 'that',\n",
       " \"'\",\n",
       " ',',\n",
       " \"'\",\n",
       " 'is',\n",
       " \"'\",\n",
       " ',',\n",
       " \"'\",\n",
       " 'red',\n",
       " \"'\",\n",
       " ',',\n",
       " \"'\",\n",
       " 'and',\n",
       " \"'\",\n",
       " ',',\n",
       " \"'\",\n",
       " 'wet',\n",
       " \"'\",\n",
       " ',',\n",
       " \"'\",\n",
       " 'in',\n",
       " \"'\",\n",
       " ',',\n",
       " \"'\",\n",
       " 'brocade',\n",
       " \"'\",\n",
       " ',',\n",
       " \"'\",\n",
       " 'city',\n",
       " \"'\",\n",
       " ',',\n",
       " \"'\",\n",
       " 'guancheng',\n",
       " \"'\",\n",
       " ',',\n",
       " \"'\",\n",
       " 'spring',\n",
       " \"'\",\n",
       " ',',\n",
       " \"'\",\n",
       " 'night',\n",
       " \"'\",\n",
       " ',',\n",
       " \"'\",\n",
       " 'happy',\n",
       " \"'\",\n",
       " ',',\n",
       " \"'\",\n",
       " 'rain',\n",
       " \"'\",\n",
       " ',',\n",
       " \"'\",\n",
       " 'by',\n",
       " \"'\",\n",
       " ',',\n",
       " \"'\",\n",
       " 'du',\n",
       " \"'\",\n",
       " ',',\n",
       " \"'\",\n",
       " 'fu',\n",
       " \"'\",\n",
       " ',',\n",
       " \"'\",\n",
       " 'written',\n",
       " \"'\",\n",
       " ',',\n",
       " \"'\",\n",
       " 'in',\n",
       " \"'\",\n",
       " ',',\n",
       " \"'\",\n",
       " 'chengdu',\n",
       " \"'\",\n",
       " ',',\n",
       " \"'\",\n",
       " '759',\n",
       " \"'\",\n",
       " ',',\n",
       " \"'\",\n",
       " '763',\n",
       " \"'\",\n",
       " ',',\n",
       " \"'\",\n",
       " 'during',\n",
       " \"'\",\n",
       " ',',\n",
       " \"'\",\n",
       " 'the',\n",
       " \"'\",\n",
       " ',',\n",
       " \"'\",\n",
       " 'an',\n",
       " \"'\",\n",
       " ',',\n",
       " \"'\",\n",
       " 'lushan',\n",
       " \"'\",\n",
       " ',',\n",
       " \"'\",\n",
       " 'rebellion',\n",
       " \"'\",\n",
       " ']']"
      ]
     },
     "execution_count": 11,
     "metadata": {},
     "output_type": "execute_result"
    }
   ],
   "source": [
    "tokenise(mots)"
   ]
  },
  {
   "cell_type": "markdown",
   "id": "62793fa9",
   "metadata": {},
   "source": [
    "### 3/ Define a function named ```stem```. It should accept some text and return the text after applying stemming to all the words.\n"
   ]
  },
  {
   "cell_type": "code",
   "execution_count": 12,
   "id": "b89888ce",
   "metadata": {},
   "outputs": [],
   "source": [
    "# create the stemmer obj\n",
    "\n",
    "ps = nltk.porter.PorterStemmer()"
   ]
  },
  {
   "cell_type": "code",
   "execution_count": 13,
   "id": "49708aab",
   "metadata": {},
   "outputs": [
    {
     "data": {
      "text/plain": [
       "['good',\n",
       " 'rain',\n",
       " 'know',\n",
       " 'the',\n",
       " 'right',\n",
       " 'time',\n",
       " 'to',\n",
       " 'fall',\n",
       " 'when',\n",
       " 'spring',\n",
       " 'come',\n",
       " 'and',\n",
       " 'follow',\n",
       " 'the',\n",
       " 'wind',\n",
       " 'in',\n",
       " 'the',\n",
       " 'night',\n",
       " 'silent',\n",
       " 'moisten',\n",
       " 'everi',\n",
       " 'thing',\n",
       " 'a',\n",
       " 'wild',\n",
       " 'path',\n",
       " 'black',\n",
       " 'and',\n",
       " 'cloudi',\n",
       " 'a',\n",
       " 'riverboat',\n",
       " 'fire',\n",
       " 'alon',\n",
       " 'and',\n",
       " 'bright',\n",
       " 'dawn',\n",
       " 'ha',\n",
       " 'the',\n",
       " 'look',\n",
       " 'that',\n",
       " 'is',\n",
       " 'red',\n",
       " 'and',\n",
       " 'wet',\n",
       " 'in',\n",
       " 'brocad',\n",
       " 'citi',\n",
       " 'guancheng',\n",
       " 'spring',\n",
       " 'night',\n",
       " 'happi',\n",
       " 'rain',\n",
       " 'by',\n",
       " 'du',\n",
       " 'fu',\n",
       " 'written',\n",
       " 'in',\n",
       " 'chengdu',\n",
       " '759',\n",
       " '763',\n",
       " 'dure',\n",
       " 'the',\n",
       " 'an',\n",
       " 'lushan',\n",
       " 'rebellion']"
      ]
     },
     "execution_count": 13,
     "metadata": {},
     "output_type": "execute_result"
    }
   ],
   "source": [
    "# stemming each word\n",
    "\n",
    "[ps.stem(mot) for mot in mots]"
   ]
  },
  {
   "cell_type": "code",
   "execution_count": 16,
   "id": "255a8e54",
   "metadata": {},
   "outputs": [],
   "source": [
    "# assigning variable\n",
    "\n",
    "stems = [ps.stem(mot) for mot in mots]"
   ]
  },
  {
   "cell_type": "code",
   "execution_count": 15,
   "id": "f159ca1f",
   "metadata": {},
   "outputs": [
    {
     "data": {
      "text/plain": [
       "'good rain know the right time to fall when spring come and follow the wind in the night silent moisten everi thing a wild path black and cloudi a riverboat fire alon and bright dawn ha the look that is red and wet in brocad citi guancheng spring night happi rain by du fu written in chengdu 759 763 dure the an lushan rebellion'"
      ]
     },
     "execution_count": 15,
     "metadata": {},
     "output_type": "execute_result"
    }
   ],
   "source": [
    "# joining stems into a clump of text\n",
    "\n",
    "\n",
    "stems = [ps.stem(word) for word in mots]\n",
    "' '.join(stems)"
   ]
  },
  {
   "cell_type": "code",
   "execution_count": 17,
   "id": "70a87f05",
   "metadata": {},
   "outputs": [],
   "source": [
    "# function to stem a string\n",
    "\n",
    "def stem(mots):\n",
    "    '''\n",
    "    this function takes in a string, and \n",
    "    stems it using the Porter Stemmer\n",
    "    '''\n",
    "    # create the stemmer obj\n",
    "    ps = nltk.porter.PorterStemmer()\n",
    "\n",
    "    # stemming each word\n",
    "    stems = [ps.stem(mot) for mot in mots]\n",
    "\n",
    "    # joining stems into a clump of text\n",
    "    stems = [ps.stem(word) for word in mots]\n",
    "    ' '.join(stems)\n",
    "    \n",
    "    return stems"
   ]
  },
  {
   "cell_type": "code",
   "execution_count": 18,
   "id": "e73b3c65",
   "metadata": {},
   "outputs": [
    {
     "data": {
      "text/plain": [
       "['good',\n",
       " 'rain',\n",
       " 'know',\n",
       " 'the',\n",
       " 'right',\n",
       " 'time',\n",
       " 'to',\n",
       " 'fall',\n",
       " 'when',\n",
       " 'spring',\n",
       " 'come',\n",
       " 'and',\n",
       " 'follow',\n",
       " 'the',\n",
       " 'wind',\n",
       " 'in',\n",
       " 'the',\n",
       " 'night',\n",
       " 'silent',\n",
       " 'moisten',\n",
       " 'everi',\n",
       " 'thing',\n",
       " 'a',\n",
       " 'wild',\n",
       " 'path',\n",
       " 'black',\n",
       " 'and',\n",
       " 'cloudi',\n",
       " 'a',\n",
       " 'riverboat',\n",
       " 'fire',\n",
       " 'alon',\n",
       " 'and',\n",
       " 'bright',\n",
       " 'dawn',\n",
       " 'ha',\n",
       " 'the',\n",
       " 'look',\n",
       " 'that',\n",
       " 'is',\n",
       " 'red',\n",
       " 'and',\n",
       " 'wet',\n",
       " 'in',\n",
       " 'brocad',\n",
       " 'citi',\n",
       " 'guancheng',\n",
       " 'spring',\n",
       " 'night',\n",
       " 'happi',\n",
       " 'rain',\n",
       " 'by',\n",
       " 'du',\n",
       " 'fu',\n",
       " 'written',\n",
       " 'in',\n",
       " 'chengdu',\n",
       " '759',\n",
       " '763',\n",
       " 'dure',\n",
       " 'the',\n",
       " 'an',\n",
       " 'lushan',\n",
       " 'rebellion']"
      ]
     },
     "execution_count": 18,
     "metadata": {},
     "output_type": "execute_result"
    }
   ],
   "source": [
    "# faire fonctionner le fonction\n",
    "\n",
    "stem(mots)"
   ]
  },
  {
   "cell_type": "markdown",
   "id": "f918517e",
   "metadata": {},
   "source": [
    "### 4/ Define a function named ```lemmatize```. It should accept some text and return the text after applying lemmatization to each word.\n"
   ]
  },
  {
   "cell_type": "code",
   "execution_count": 19,
   "id": "f4331211",
   "metadata": {},
   "outputs": [],
   "source": [
    "# lemmatiser obj\n",
    "wln = nltk.stem.WordNetLemmatizer()"
   ]
  },
  {
   "cell_type": "code",
   "execution_count": 20,
   "id": "c1700a64",
   "metadata": {},
   "outputs": [
    {
     "data": {
      "text/plain": [
       "'good rain know the right time to fall when spring come and follows the wind in the night silently moistening every thing a wild path black and cloudy a riverboat fire alone and bright dawn ha the look that is red and wet in brocade city guancheng spring night happy rain by du fu written in chengdu 759 763 during the an lushan rebellion'"
      ]
     },
     "execution_count": 20,
     "metadata": {},
     "output_type": "execute_result"
    }
   ],
   "source": [
    "# join the lemmatised words\n",
    "\n",
    "lemmas = [wln.lemmatize(mot) for mot in mots]\n",
    "' '.join(lemmas)"
   ]
  },
  {
   "cell_type": "code",
   "execution_count": 30,
   "id": "f290dea1",
   "metadata": {},
   "outputs": [],
   "source": [
    "# lemmatising function\n",
    "\n",
    "def lemmatize(mots):\n",
    "    \n",
    "    '''this function takes in a string\n",
    "    and lemmatises it\n",
    "    \n",
    "    # lemmatiser obj\n",
    "    wln = nltk.stem.WordNetLemmatizer()\n",
    "    \n",
    "    # join the lemmatised words\n",
    "\n",
    "    lemmas = [wln.lemmatize(stem) for stem in stems]\n",
    "    ' '.join(lemmas)\n",
    "    \n",
    "    return lemmas"
   ]
  },
  {
   "cell_type": "code",
   "execution_count": 31,
   "id": "2ca5f63b",
   "metadata": {},
   "outputs": [
    {
     "data": {
      "text/plain": [
       "['good',\n",
       " 'rain',\n",
       " 'know',\n",
       " 'the',\n",
       " 'right',\n",
       " 'time',\n",
       " 'to',\n",
       " 'fall',\n",
       " 'when',\n",
       " 'spring',\n",
       " 'come',\n",
       " 'and',\n",
       " 'follow',\n",
       " 'the',\n",
       " 'wind',\n",
       " 'in',\n",
       " 'the',\n",
       " 'night',\n",
       " 'silent',\n",
       " 'moisten',\n",
       " 'everi',\n",
       " 'thing',\n",
       " 'a',\n",
       " 'wild',\n",
       " 'path',\n",
       " 'black',\n",
       " 'and',\n",
       " 'cloudi',\n",
       " 'a',\n",
       " 'riverboat',\n",
       " 'fire',\n",
       " 'alon',\n",
       " 'and',\n",
       " 'bright',\n",
       " 'dawn',\n",
       " 'ha',\n",
       " 'the',\n",
       " 'look',\n",
       " 'that',\n",
       " 'is',\n",
       " 'red',\n",
       " 'and',\n",
       " 'wet',\n",
       " 'in',\n",
       " 'brocad',\n",
       " 'citi',\n",
       " 'guancheng',\n",
       " 'spring',\n",
       " 'night',\n",
       " 'happi',\n",
       " 'rain',\n",
       " 'by',\n",
       " 'du',\n",
       " 'fu',\n",
       " 'written',\n",
       " 'in',\n",
       " 'chengdu',\n",
       " '759',\n",
       " '763',\n",
       " 'dure',\n",
       " 'the',\n",
       " 'an',\n",
       " 'lushan',\n",
       " 'rebellion']"
      ]
     },
     "execution_count": 31,
     "metadata": {},
     "output_type": "execute_result"
    }
   ],
   "source": [
    "lemmatize(stems)"
   ]
  },
  {
   "cell_type": "code",
   "execution_count": null,
   "id": "0b44b2e9",
   "metadata": {},
   "outputs": [],
   "source": []
  }
 ],
 "metadata": {
  "kernelspec": {
   "display_name": "Python 3 (ipykernel)",
   "language": "python",
   "name": "python3"
  },
  "language_info": {
   "codemirror_mode": {
    "name": "ipython",
    "version": 3
   },
   "file_extension": ".py",
   "mimetype": "text/x-python",
   "name": "python",
   "nbconvert_exporter": "python",
   "pygments_lexer": "ipython3",
   "version": "3.9.13"
  }
 },
 "nbformat": 4,
 "nbformat_minor": 5
}
