{
 "cells": [
  {
   "cell_type": "markdown",
   "id": "0f63580e",
   "metadata": {},
   "source": [
    "# NLP Overview & RegEx Lessons\n",
    "\n",
    "23 February 2023"
   ]
  },
  {
   "cell_type": "markdown",
   "id": "e103a7a7",
   "metadata": {},
   "source": [
    "- corpus : whole dataset  \n",
    "    \n",
    "- document : one observation (row)\n",
    "                               \n",
    "- tokenization : breaking down into tokens  \n",
    "                               \n",
    "- stemming and lemmatising : breaking words down into morpheme  \n",
    "    \"Lemmatization usually refers to doing things properly with the use of a vocabulary and morphological analysis of words, normally aiming to remove inflectional endings only and to return the base or dictionary form of a word, which is known as the lemma .\"\n",
    "    \n",
    "- stopwords : articles ; common words that (usually) don't add value  \n",
    "\n",
    "- ngrams : combination of n words, in order to return greater meaning from the results (ie, the musical group 'the humans', vs the generic term 'humans').  \n",
    "\n",
    "- POS : part of speach\n",
    "\n",
    "\n",
    "DATA PREP   \n",
    "\n",
    "- casing : almost always maked lowercased the text   \n",
    "- tokenisation : breaking a phrase on each white space, each prefix (first word of phrase), any punctuation  \n",
    "- stopword removal ('and', 'the', 'a', 'of', etc)   \n",
    "- stemming : chop off suffixes from words  \n",
    "- lemmatising : interior transformation of the word (drove / drives --> drive).  \n",
    "- use either stemmer / or lemmatiser (but the stemmer is a quicker process).  \n",
    "\n",
    "\n",
    "EXPLORATION  \n",
    "\n",
    "- wordcount, document length, common words / ngrams, wordclouds  \n",
    "- wordclouds are a hard case for data analysis : what's the scale ? how accurate is it (cf image appearance)\n",
    "\n",
    "\n",
    "MODELLING \n",
    "- how to represent a docu as numbers ?\n",
    "    - count vectorisation (bag of words) : how many time each word appears in the corpus, per document row   \n",
    "    - TF-IDF ('term frequency' in a single document in a corpus ; 'inverse document frequency' of how much a term shows up in all the other documents in the entire corpus)  \n",
    "        - then use a ML model to make predictions of text class"
   ]
  },
  {
   "cell_type": "markdown",
   "id": "cdd3c277",
   "metadata": {},
   "source": [
    "# REGEX"
   ]
  },
  {
   "cell_type": "markdown",
   "id": "d3cb6262",
   "metadata": {},
   "source": [
    "### RegEx library functions\n",
    "\n",
    "```re.search``` : scans through a string, looks for any location where the RE matches.  \n",
    "```re.findall``` : finds all substrings where the RE matches ; returns a list.  \n",
    "```re.split``` : splits a string ona given RE patter, removing that pattern ; returns a list of strings.  \n",
    "```re.sub``` : matches a regex and subs in a new substring for the match.  \n",
    "\n",
    "\n",
    "Works with any other programming language, with only minor differences.    \n",
    "If parsing HTML, JSON or XML, use a tool built for those formats.  \n",
    "If stuff already exists in the computer language, use that instead of creating a RE.  \n",
    " \n",
    "RegEx metacharacters ```. ^ $ * + ? { } [ ] \\ | ( )``` have special meanings.  \n",
    "Metacharacers are not active inside of the character class square brackets ```[]```.\n",
    "\n",
    "```r\"[a-z]\"``` : r = 'raw' ; matches lowercase a thru z.   \n",
    "Actual character meaning :  \n",
    "```\\+``` finds a literal '+'.  \n",
    "```\\d``` = [0-9].  \n",
    "```\\D``` = [^0-9].  \n",
    "```\\s``` = any sort of space.  \n",
    "```\\w``` = any alphanumeric char and underscore . = [0-9a-zA-Z_]  \n",
    "```\\W``` = anything non-alphanumeric . = [^0-9a-zA-Z_]  \n",
    "```*``` = zero or more of the previous pattern.  \n",
    "```+``` = matches one or more of the previous pattern.  \n",
    "```?``` = pattern might be optional.  \n",
    "ANCHORS   \n",
    "```^``` start  \n",
    "```$``` end  \n",
    "```\\b``` word boundary    \n",
    "GROUPS  \n",
    "```(a)```, contains parts of a pattern.    \n",
    "\n",
    "\n"
   ]
  },
  {
   "cell_type": "code",
   "execution_count": 1,
   "id": "7cbd7104",
   "metadata": {},
   "outputs": [],
   "source": [
    "import pandas as pd\n",
    "import re"
   ]
  },
  {
   "cell_type": "markdown",
   "id": "8be74eb1",
   "metadata": {},
   "source": [
    "## Matching literal expressions"
   ]
  },
  {
   "cell_type": "code",
   "execution_count": 2,
   "id": "86f6e21e",
   "metadata": {},
   "outputs": [
    {
     "data": {
      "text/plain": [
       "'Two households, both alike in dignity, In fair Verona, where we lay our scene, From ancient grudge break to new mutiny, Where civil blood makes civil hands unclean.'"
      ]
     },
     "execution_count": 2,
     "metadata": {},
     "output_type": "execute_result"
    }
   ],
   "source": [
    "string = 'Two households, both alike in dignity, In fair Verona, where we lay our scene, From ancient grudge break to new mutiny, Where civil blood makes civil hands unclean.'\n",
    "\n",
    "string"
   ]
  },
  {
   "cell_type": "code",
   "execution_count": 3,
   "id": "6e932739",
   "metadata": {},
   "outputs": [
    {
     "data": {
      "text/plain": [
       "<re.Match object; span=(47, 53), match='Verona'>"
      ]
     },
     "execution_count": 3,
     "metadata": {},
     "output_type": "execute_result"
    }
   ],
   "source": [
    "# re.search (r'pattern', 'our subject') : literal match of string 'Verona'\n",
    "\n",
    "re.search(r'Verona', string)"
   ]
  },
  {
   "cell_type": "code",
   "execution_count": 4,
   "id": "eb6f5c32",
   "metadata": {},
   "outputs": [
    {
     "data": {
      "text/plain": [
       "'Verona'"
      ]
     },
     "execution_count": 4,
     "metadata": {},
     "output_type": "execute_result"
    }
   ],
   "source": [
    "# string at location indicated\n",
    "\n",
    "string[47:53]"
   ]
  },
  {
   "cell_type": "code",
   "execution_count": 5,
   "id": "08a7eb9a",
   "metadata": {},
   "outputs": [
    {
     "data": {
      "text/plain": [
       "<re.Match object; span=(39, 53), match='In fair Verona'>"
      ]
     },
     "execution_count": 5,
     "metadata": {},
     "output_type": "execute_result"
    }
   ],
   "source": [
    "# string\n",
    "\n",
    "re.search(r'In fair Verona', string)"
   ]
  },
  {
   "cell_type": "code",
   "execution_count": 6,
   "id": "4b97f235",
   "metadata": {},
   "outputs": [],
   "source": [
    "# returns 'none'\n",
    "\n",
    "re.search(r'Leonardo', string)"
   ]
  },
  {
   "cell_type": "code",
   "execution_count": 7,
   "id": "e77b2b26",
   "metadata": {},
   "outputs": [
    {
     "data": {
      "text/plain": [
       "<re.Match object; span=(126, 131), match='civil'>"
      ]
     },
     "execution_count": 7,
     "metadata": {},
     "output_type": "execute_result"
    }
   ],
   "source": [
    "# returns first and only first match\n",
    "\n",
    "re.search(r'civil', string)"
   ]
  },
  {
   "cell_type": "code",
   "execution_count": 8,
   "id": "0ef51294",
   "metadata": {},
   "outputs": [
    {
     "data": {
      "text/plain": [
       "['civil', 'civil']"
      ]
     },
     "execution_count": 8,
     "metadata": {},
     "output_type": "execute_result"
    }
   ],
   "source": [
    "# every match with .findall\n",
    "\n",
    "re.findall(r'civil', string)"
   ]
  },
  {
   "cell_type": "code",
   "execution_count": 9,
   "id": "a5d6935b",
   "metadata": {},
   "outputs": [
    {
     "name": "stdout",
     "output_type": "stream",
     "text": [
      "['Two']\n",
      "<re.Match object; span=(0, 3), match='Two'>\n"
     ]
    }
   ],
   "source": [
    "print(re.findall(r'Two', string))\n",
    "print(re.search(r'Two', string))"
   ]
  },
  {
   "cell_type": "code",
   "execution_count": 10,
   "id": "c55f4707",
   "metadata": {},
   "outputs": [
    {
     "data": {
      "text/plain": [
       "[]"
      ]
     },
     "execution_count": 10,
     "metadata": {},
     "output_type": "execute_result"
    }
   ],
   "source": [
    "re.findall(r'Leonardo', string)\n",
    "# finds nothing, returns empty list"
   ]
  },
  {
   "cell_type": "code",
   "execution_count": 11,
   "id": "be3d5014",
   "metadata": {},
   "outputs": [
    {
     "name": "stdout",
     "output_type": "stream",
     "text": [
      "<re.Match object; span=(0, 3), match='Two'>\n",
      "None\n"
     ]
    }
   ],
   "source": [
    "print(re.search(r'Two', string))\n",
    "print(re.search(r'two', string))\n",
    "# none, bc case specific"
   ]
  },
  {
   "cell_type": "code",
   "execution_count": 12,
   "id": "a63673cb",
   "metadata": {},
   "outputs": [
    {
     "name": "stdout",
     "output_type": "stream",
     "text": [
      "<re.Match object; span=(0, 3), match='Two'>\n"
     ]
    }
   ],
   "source": [
    "# re.ignorecase IGNORES THE CSAE\n",
    "\n",
    "print(re.search(r'two', string, re.IGNORECASE))"
   ]
  },
  {
   "cell_type": "code",
   "execution_count": 13,
   "id": "4eafd17f",
   "metadata": {},
   "outputs": [
    {
     "data": {
      "text/plain": [
       "<re.Match object; span=(0, 7), match='aaaaaaa'>"
      ]
     },
     "execution_count": 13,
     "metadata": {},
     "output_type": "execute_result"
    }
   ],
   "source": [
    "re.search(r'Aaaaaaa', 'aaaaaaa', re.IGNORECASE)\n",
    "#searching for 'Aaaaaaa' in 'aaaaaaa'"
   ]
  },
  {
   "cell_type": "markdown",
   "id": "5bcc20c9",
   "metadata": {},
   "source": [
    "### | = 'or'\n",
    "\n"
   ]
  },
  {
   "cell_type": "code",
   "execution_count": 14,
   "id": "c9c59302",
   "metadata": {},
   "outputs": [
    {
     "data": {
      "text/plain": [
       "['gray', 'grey', 'gray']"
      ]
     },
     "execution_count": 14,
     "metadata": {},
     "output_type": "execute_result"
    }
   ],
   "source": [
    "# or\n",
    "\n",
    "re.findall(r'grey|gray', 'How does one spell gray ? Or is it grey or gray ?')"
   ]
  },
  {
   "cell_type": "code",
   "execution_count": 15,
   "id": "1c0a9e0b",
   "metadata": {},
   "outputs": [
    {
     "data": {
      "text/plain": [
       "<re.Match object; span=(12, 17), match='apple'>"
      ]
     },
     "execution_count": 15,
     "metadata": {},
     "output_type": "execute_result"
    }
   ],
   "source": [
    "# or : takes the first instance in the subject string. It doesn't matter that it's plural.\n",
    "\n",
    "\n",
    "re.search(r'orange|apple', 'I like both apples and oranges.')"
   ]
  },
  {
   "cell_type": "code",
   "execution_count": 16,
   "id": "c0ec4b85",
   "metadata": {},
   "outputs": [
    {
     "data": {
      "text/plain": [
       "['this', 'that', 'this', 'that']"
      ]
     },
     "execution_count": 16,
     "metadata": {},
     "output_type": "execute_result"
    }
   ],
   "source": [
    "# returns all\n",
    "\n",
    "re.findall(f'this|that', 'this, that, this, that')"
   ]
  },
  {
   "cell_type": "code",
   "execution_count": 17,
   "id": "52bb29e4",
   "metadata": {},
   "outputs": [
    {
     "data": {
      "text/plain": [
       "<re.Match object; span=(1, 2), match='a'>"
      ]
     },
     "execution_count": 17,
     "metadata": {},
     "output_type": "execute_result"
    }
   ],
   "source": [
    "# has a vowel, anywhere\n",
    "# only returns first instance in the subject\n",
    "\n",
    "re.search(r'[aeiou]', 'banana, grape')"
   ]
  },
  {
   "cell_type": "code",
   "execution_count": 18,
   "id": "586299fd",
   "metadata": {},
   "outputs": [
    {
     "data": {
      "text/plain": [
       "<re.Match object; span=(1, 2), match='a'>"
      ]
     },
     "execution_count": 18,
     "metadata": {},
     "output_type": "execute_result"
    }
   ],
   "source": [
    "# has a vowel, anywhere\n",
    "# only returns first instance in the subject\n",
    "\n",
    "re.search(r'a|e|i|o|u', 'banana, grape')"
   ]
  },
  {
   "cell_type": "code",
   "execution_count": 19,
   "id": "cb7a4237",
   "metadata": {},
   "outputs": [
    {
     "data": {
      "text/plain": [
       "<re.Match object; span=(0, 20), match='bananarama is my jam'>"
      ]
     },
     "execution_count": 19,
     "metadata": {},
     "output_type": "execute_result"
    }
   ],
   "source": [
    "# ^ starts with\n",
    "# . any char\n",
    "# * zero or more of whatever is before it. Here, the b.  = (b followed by any char 0 or more times)\n",
    "\n",
    "re.search(r'^b.*', 'bananarama is my jam')\n",
    "\n",
    "# the battern describes the entire phrase"
   ]
  },
  {
   "cell_type": "code",
   "execution_count": 20,
   "id": "9ee4dd0b",
   "metadata": {},
   "outputs": [
    {
     "name": "stdout",
     "output_type": "stream",
     "text": [
      "None\n",
      "<re.Match object; span=(0, 1), match='b'>\n"
     ]
    }
   ],
   "source": [
    "print(re.search(r'^b.', 'b'))\n",
    "# doesn't return bc 'b' has nothing following it\n",
    "\n",
    "# cf\n",
    "print(re.search(r'^b.*', 'b'))"
   ]
  },
  {
   "cell_type": "code",
   "execution_count": 21,
   "id": "ebe6b2e8",
   "metadata": {},
   "outputs": [
    {
     "data": {
      "text/plain": [
       "<re.Match object; span=(1, 2), match='a'>"
      ]
     },
     "execution_count": 21,
     "metadata": {},
     "output_type": "execute_result"
    }
   ],
   "source": [
    "# just the a, bc it's a single character due to the []\n",
    "# the single char following the undesired-b\n",
    "\n",
    "re.search(r'[^b.*]', 'bananarama is my jam')"
   ]
  },
  {
   "cell_type": "code",
   "execution_count": 22,
   "id": "6fa778bd",
   "metadata": {},
   "outputs": [],
   "source": [
    "# nothing , bc, in this case, the string must start with the letter b\n",
    "\n",
    "re.search(r'^b.*', 'my jam is bananarama')"
   ]
  },
  {
   "cell_type": "markdown",
   "id": "a7bfb8a0",
   "metadata": {},
   "source": [
    "### On to ```+```"
   ]
  },
  {
   "cell_type": "code",
   "execution_count": 23,
   "id": "82c398fd",
   "metadata": {},
   "outputs": [],
   "source": [
    "# \"+\"\" = needs 1 or more instances of something after the b\n",
    "\n",
    "re.search(r'^b.+', 'b')\n",
    "\n",
    "# returns nothing, bc nothing follows 'b'"
   ]
  },
  {
   "cell_type": "code",
   "execution_count": 24,
   "id": "a846fdbd",
   "metadata": {},
   "outputs": [
    {
     "data": {
      "text/plain": [
       "<re.Match object; span=(0, 1), match='b'>"
      ]
     },
     "execution_count": 24,
     "metadata": {},
     "output_type": "execute_result"
    }
   ],
   "source": [
    "# \"+\"\" = needs 1 or more instances of something after the b\n",
    "\n",
    "re.search(r'^b.*', 'b')\n",
    "\n",
    "# returns 'b', bc anything could follow 'b'"
   ]
  },
  {
   "cell_type": "code",
   "execution_count": 25,
   "id": "c0ff47ad",
   "metadata": {},
   "outputs": [
    {
     "data": {
      "text/plain": [
       "<re.Match object; span=(0, 20), match='banamana daelkjjjdaf'>"
      ]
     },
     "execution_count": 25,
     "metadata": {},
     "output_type": "execute_result"
    }
   ],
   "source": [
    "# .* finds the largest-possible match : a greedy pattern that takes in all following the requirement before .*\n",
    " \n",
    "re.search(r'^b.*', 'banamana daelkjjjdaf')"
   ]
  },
  {
   "cell_type": "code",
   "execution_count": 26,
   "id": "89b820ac",
   "metadata": {},
   "outputs": [
    {
     "data": {
      "text/plain": [
       "<re.Match object; span=(0, 8), match='banamana'>"
      ]
     },
     "execution_count": 26,
     "metadata": {},
     "output_type": "execute_result"
    }
   ],
   "source": [
    "# match b then 1 or more alphanumerics for a word\n",
    "# \\w means any a-zA-Z0-9_\n",
    "# + means 1 or more lettrs\n",
    "\n",
    "re.search(r'^b\\w+', 'banamana daelkjjjdaf')\n",
    "\n",
    "# when it hit the ' ' before dael..., it stopped, bc not indicated in the RE"
   ]
  },
  {
   "cell_type": "code",
   "execution_count": 27,
   "id": "0fc8f7ef",
   "metadata": {},
   "outputs": [],
   "source": [
    "re.search(r'^b\\w+', 'cest chouette')\n",
    "\n",
    "# returns nothing, bc there's no b"
   ]
  },
  {
   "cell_type": "code",
   "execution_count": 28,
   "id": "fa64c8ac",
   "metadata": {},
   "outputs": [],
   "source": [
    "re.search(r'^b\\w+', 'b chouette')\n",
    "\n",
    "# returns nothing, bc there's a space after b"
   ]
  },
  {
   "cell_type": "code",
   "execution_count": 29,
   "id": "a113d7ee",
   "metadata": {},
   "outputs": [
    {
     "data": {
      "text/plain": [
       "<re.Match object; span=(0, 1), match='b'>"
      ]
     },
     "execution_count": 29,
     "metadata": {},
     "output_type": "execute_result"
    }
   ],
   "source": [
    "re.search(r'^b\\w*', 'b chouette')\n",
    "\n",
    "# returns b, bc anything is permitted after b"
   ]
  },
  {
   "cell_type": "code",
   "execution_count": 30,
   "id": "4b814899",
   "metadata": {},
   "outputs": [
    {
     "data": {
      "text/plain": [
       "<re.Match object; span=(0, 2), match='b '>"
      ]
     },
     "execution_count": 30,
     "metadata": {},
     "output_type": "execute_result"
    }
   ],
   "source": [
    "re.search(r'^b.', 'b chouette')\n",
    "\n",
    "# grabs 1 char after the b, bc no repetition requested in the RE"
   ]
  },
  {
   "cell_type": "code",
   "execution_count": 31,
   "id": "b5fc7b17",
   "metadata": {},
   "outputs": [
    {
     "data": {
      "text/plain": [
       "<re.Match object; span=(0, 6), match='bddddd'>"
      ]
     },
     "execution_count": 31,
     "metadata": {},
     "output_type": "execute_result"
    }
   ],
   "source": [
    "re.search(r'b\\w*\\b', 'bddddd chouette b')\n",
    "\n",
    "# b followed by anything until it breaks off"
   ]
  },
  {
   "cell_type": "code",
   "execution_count": 32,
   "id": "7f81c50d",
   "metadata": {},
   "outputs": [],
   "source": [
    "re.search(r'b\\w\\b', 'bddddd chouette b')\n",
    "\n",
    "# nothing, bc nothing could followe"
   ]
  },
  {
   "cell_type": "code",
   "execution_count": 33,
   "id": "08191b1d",
   "metadata": {},
   "outputs": [
    {
     "data": {
      "text/plain": [
       "<re.Match object; span=(0, 2), match='bd'>"
      ]
     },
     "execution_count": 33,
     "metadata": {},
     "output_type": "execute_result"
    }
   ],
   "source": [
    "# matches b, then any other char\n",
    "\n",
    "re.search(r'b.', 'bddddd chouette b')"
   ]
  },
  {
   "cell_type": "code",
   "execution_count": 34,
   "id": "a3ead458",
   "metadata": {},
   "outputs": [
    {
     "data": {
      "text/plain": [
       "<re.Match object; span=(0, 2), match='bd'>"
      ]
     },
     "execution_count": 34,
     "metadata": {},
     "output_type": "execute_result"
    }
   ],
   "source": [
    "re.search(r'b\\w', 'bddddd chouette b')\n",
    "\n",
    "# b followed by any non-numeric char"
   ]
  },
  {
   "cell_type": "code",
   "execution_count": 35,
   "id": "eeced3f0",
   "metadata": {},
   "outputs": [
    {
     "data": {
      "text/plain": [
       "<re.Match object; span=(0, 7), match='bddddd '>"
      ]
     },
     "execution_count": 35,
     "metadata": {},
     "output_type": "execute_result"
    }
   ],
   "source": [
    "re.search(r'b\\w\\w\\w\\w\\w\\D', 'bddddd chouette b')"
   ]
  },
  {
   "cell_type": "code",
   "execution_count": 36,
   "id": "8811260e",
   "metadata": {},
   "outputs": [
    {
     "data": {
      "text/plain": [
       "<re.Match object; span=(0, 4), match='bddd'>"
      ]
     },
     "execution_count": 36,
     "metadata": {},
     "output_type": "execute_result"
    }
   ],
   "source": [
    "re.search(r'b\\w{3}', 'bddddd chouette b')\n",
    "\n",
    "# the 3 alphanumeric chars following the 'b'"
   ]
  },
  {
   "cell_type": "code",
   "execution_count": 37,
   "id": "8db77572",
   "metadata": {},
   "outputs": [
    {
     "data": {
      "text/plain": [
       "<re.Match object; span=(1, 2), match='d'>"
      ]
     },
     "execution_count": 37,
     "metadata": {},
     "output_type": "execute_result"
    }
   ],
   "source": [
    "re.search(r'[^b]', 'bddddd chouette b')\n",
    "\n",
    "# bc of the brackets, it references 1 single char, then returns it"
   ]
  },
  {
   "cell_type": "code",
   "execution_count": 38,
   "id": "68a5e7b8",
   "metadata": {},
   "outputs": [
    {
     "data": {
      "text/plain": [
       "<re.Match object; span=(1, 2), match='s'>"
      ]
     },
     "execution_count": 38,
     "metadata": {},
     "output_type": "execute_result"
    }
   ],
   "source": [
    "re.search(r'[^a.*]', 'asdfd abddddd chouette b')"
   ]
  },
  {
   "cell_type": "code",
   "execution_count": 39,
   "id": "7ff81efd",
   "metadata": {},
   "outputs": [
    {
     "data": {
      "text/plain": [
       "<re.Match object; span=(0, 24), match='asdfd abddddd chouette b'>"
      ]
     },
     "execution_count": 39,
     "metadata": {},
     "output_type": "execute_result"
    }
   ],
   "source": [
    "re.search(r'^a.*', 'asdfd abddddd chouette b')"
   ]
  },
  {
   "cell_type": "code",
   "execution_count": 40,
   "id": "dfe31e33",
   "metadata": {},
   "outputs": [
    {
     "data": {
      "text/plain": [
       "<re.Match object; span=(0, 26), match='basdfd abddddd chouette ba'>"
      ]
     },
     "execution_count": 40,
     "metadata": {},
     "output_type": "execute_result"
    }
   ],
   "source": [
    " #  same as below\n",
    "\n",
    "re.search(r'^b.*a$', 'basdfd abddddd chouette ba')"
   ]
  },
  {
   "cell_type": "code",
   "execution_count": 41,
   "id": "929ae19e",
   "metadata": {},
   "outputs": [
    {
     "data": {
      "text/plain": [
       "<re.Match object; span=(0, 26), match='basdfd abddddd chouette ba'>"
      ]
     },
     "execution_count": 41,
     "metadata": {},
     "output_type": "execute_result"
    }
   ],
   "source": [
    "# same as above\n",
    "\n",
    "re.search(r'^b.+a$', 'basdfd abddddd chouette ba')"
   ]
  },
  {
   "cell_type": "code",
   "execution_count": 42,
   "id": "af5eb17c",
   "metadata": {},
   "outputs": [
    {
     "data": {
      "text/plain": [
       "<re.Match object; span=(0, 4), match='abc1'>"
      ]
     },
     "execution_count": 42,
     "metadata": {},
     "output_type": "execute_result"
    }
   ],
   "source": [
    "# what does \\w mean\n",
    "\n",
    "re.search(r'\\w{4}', 'abc123')\n",
    "\n",
    "# any alphanum of 4 chars"
   ]
  },
  {
   "cell_type": "code",
   "execution_count": 43,
   "id": "f3e8defc",
   "metadata": {},
   "outputs": [
    {
     "data": {
      "text/plain": [
       "<re.Match object; span=(0, 3), match='abc'>"
      ]
     },
     "execution_count": 43,
     "metadata": {},
     "output_type": "execute_result"
    }
   ],
   "source": [
    "# \\w matches [a-zA-Z0-9_]\n",
    "\n",
    "re.search(r'\\w{1,4}', 'abc 1234')\n",
    "\n",
    "# takes one to 3, then stops bc the blank space is not alphanumeric"
   ]
  },
  {
   "cell_type": "code",
   "execution_count": 44,
   "id": "a07c0273",
   "metadata": {},
   "outputs": [
    {
     "data": {
      "text/plain": [
       "<re.Match object; span=(0, 1), match='F'>"
      ]
     },
     "execution_count": 44,
     "metadata": {},
     "output_type": "execute_result"
    }
   ],
   "source": [
    "# + matches one or more to the left of the pattern to the left of that + char\n",
    "\n",
    "# greedy like *\n",
    "\n",
    "re.search(r'f|F+', 'Fred asked a good question.')"
   ]
  },
  {
   "cell_type": "code",
   "execution_count": 45,
   "id": "79cfe36f",
   "metadata": {},
   "outputs": [
    {
     "data": {
      "text/plain": [
       "<re.Match object; span=(0, 4), match='Fred'>"
      ]
     },
     "execution_count": 45,
     "metadata": {},
     "output_type": "execute_result"
    }
   ],
   "source": [
    "re.search(r'f|F\\w*', 'Fred asked a good question.')\n",
    "\n",
    "# the block of 'Fred' text, stopping bc of the space"
   ]
  },
  {
   "cell_type": "code",
   "execution_count": 46,
   "id": "4bbbc35a",
   "metadata": {},
   "outputs": [
    {
     "name": "stdout",
     "output_type": "stream",
     "text": [
      "['stuff', 'a', 'nd', 'things', 'and']\n",
      "\n",
      "['s', 't', 'u', 'f', 'f', 'a', 'n', 'd', 't', 'h', 'i', 'n', 'g', 's', 'a', 'n', 'd']\n",
      "\n",
      "<re.Match object; span=(4, 9), match='stuff'>\n"
     ]
    }
   ],
   "source": [
    "# what if we want only letters and not nums and letters and _ char\n",
    "# the [a-z] is finding any and all sqeuqneces that are only [a-zA-Z]\n",
    "\n",
    "print(re.findall(r'[a-zA-Z]+', '42 $stuff a****nd things and 123'))\n",
    "print()\n",
    "print(re.findall(r'[a-zA-Z]', '42 $stuff a****nd things and 123'))\n",
    "print()\n",
    "print(re.search(r'[a-zA-Z]+', '42 $stuff a****nd things and 123'))"
   ]
  },
  {
   "cell_type": "code",
   "execution_count": 47,
   "id": "8a4c2d80",
   "metadata": {},
   "outputs": [
    {
     "data": {
      "text/plain": [
       "<re.Match object; span=(0, 3), match=';ad'>"
      ]
     },
     "execution_count": 47,
     "metadata": {},
     "output_type": "execute_result"
    }
   ],
   "source": [
    "# starts with anyting followed by alphanumeric but not a digfit\n",
    "\n",
    "re.search('^.\\w\\D', ';adfaeqe#$#^$hrtrq73489&^&$(&$)')\n",
    "\n",
    "\n",
    "# only cares about the first 3 chars"
   ]
  },
  {
   "cell_type": "markdown",
   "id": "36be9926",
   "metadata": {},
   "source": [
    "### Difference between ```*``` and ```+```"
   ]
  },
  {
   "cell_type": "code",
   "execution_count": 48,
   "id": "dbf05a26",
   "metadata": {},
   "outputs": [
    {
     "data": {
      "text/plain": [
       "<re.Match object; span=(41, 43), match='Fr'>"
      ]
     },
     "execution_count": 48,
     "metadata": {},
     "output_type": "execute_result"
    }
   ],
   "source": [
    "# match F and one or more of an a-zA-Z0-9 char\n",
    "# does not match F on its own\n",
    "\n",
    "re.search(r'F\\w', 'F red asked a great question. Great job, Fred.')"
   ]
  },
  {
   "cell_type": "code",
   "execution_count": 49,
   "id": "3b9d9bd8",
   "metadata": {},
   "outputs": [
    {
     "data": {
      "text/plain": [
       "<re.Match object; span=(0, 1), match='F'>"
      ]
     },
     "execution_count": 49,
     "metadata": {},
     "output_type": "execute_result"
    }
   ],
   "source": [
    "# match F then zero or more of an a-zA-Z0-9 \n",
    "\n",
    "re.search(r'F\\w*', 'F red asked a great question. Great job, Fred.')"
   ]
  },
  {
   "cell_type": "code",
   "execution_count": 50,
   "id": "d11aed66",
   "metadata": {},
   "outputs": [
    {
     "data": {
      "text/plain": [
       "['abc', 'is', 'the', 'lace', 'to', 'be']"
      ]
     },
     "execution_count": 50,
     "metadata": {},
     "output_type": "execute_result"
    }
   ],
   "source": [
    "# {n, } matches n or more times\n",
    "\n",
    "re.findall(r'[a-zA-Z]{1,}', 'abc2324 is the lace to be')"
   ]
  },
  {
   "cell_type": "code",
   "execution_count": 51,
   "id": "292a3cb0",
   "metadata": {},
   "outputs": [
    {
     "data": {
      "text/plain": [
       "<re.Match object; span=(0, 8), match='714-7576'>"
      ]
     },
     "execution_count": 51,
     "metadata": {},
     "output_type": "execute_result"
    }
   ],
   "source": [
    "# 3 digisti then a single char of any then 4 digits\n",
    "re.search(r'\\d{3}.\\d{4}', '714-7576259')"
   ]
  },
  {
   "cell_type": "code",
   "execution_count": 52,
   "id": "aad8915e",
   "metadata": {},
   "outputs": [
    {
     "data": {
      "text/plain": [
       "<re.Match object; span=(0, 8), match='71475762'>"
      ]
     },
     "execution_count": 52,
     "metadata": {},
     "output_type": "execute_result"
    }
   ],
   "source": [
    "# what if the delimiter isoptional\n",
    "\n",
    "# ? metachar means the thing to the left of the ? is optional\n",
    "\n",
    "\n",
    "re.search(r'\\d{3}.?\\d{4}', '7147576259')"
   ]
  },
  {
   "cell_type": "markdown",
   "id": "f4cf7544",
   "metadata": {},
   "source": [
    "## Use a RegEx pattern to split a string\n",
    "\n",
    "- ```re.split``` returns a list of strings  \n",
    "- the matching substring is removed  \n",
    "- we can split on any RE pattern, not only char literals"
   ]
  },
  {
   "cell_type": "code",
   "execution_count": 53,
   "id": "d46c6735",
   "metadata": {},
   "outputs": [
    {
     "data": {
      "text/plain": [
       "['333', '333', '3333']"
      ]
     },
     "execution_count": 53,
     "metadata": {},
     "output_type": "execute_result"
    }
   ],
   "source": [
    "# splits on '-'\n",
    "\n",
    "'333-333-3333'.split('-')"
   ]
  },
  {
   "cell_type": "code",
   "execution_count": 54,
   "id": "4c767289",
   "metadata": {},
   "outputs": [
    {
     "data": {
      "text/plain": [
       "['333 333 3333']"
      ]
     },
     "execution_count": 54,
     "metadata": {},
     "output_type": "execute_result"
    }
   ],
   "source": [
    "# split the phone number on the '-'\n",
    "\n",
    "re.split(r'-', '333 333 3333')"
   ]
  },
  {
   "cell_type": "code",
   "execution_count": 55,
   "id": "961ab61d",
   "metadata": {},
   "outputs": [
    {
     "data": {
      "text/plain": [
       "['333', '333', '3333']"
      ]
     },
     "execution_count": 55,
     "metadata": {},
     "output_type": "execute_result"
    }
   ],
   "source": [
    "# split the phone number on the '-' or a space\n",
    "\n",
    "re.split(r'-| ', '333 333 3333')"
   ]
  },
  {
   "cell_type": "code",
   "execution_count": 56,
   "id": "269c2ecf",
   "metadata": {},
   "outputs": [
    {
     "data": {
      "text/plain": [
       "['this,', 'that', 'and', 'the', 'other', 'thing']"
      ]
     },
     "execution_count": 56,
     "metadata": {},
     "output_type": "execute_result"
    }
   ],
   "source": [
    "# split on the space\n",
    "\n",
    "re.split(r' ', 'this, that and the other thing')"
   ]
  },
  {
   "cell_type": "markdown",
   "id": "0b3d33cd",
   "metadata": {},
   "source": [
    "### character classes\n",
    "\n",
    "- square brackets make char cases\n",
    "\n",
    "- char classes provide OR behaviour\n",
    "-- in a char class ```^``` works as a 'none of' operator\n",
    "- metachars mattch their literal char wheninsdie of a square brakcets for char classs"
   ]
  },
  {
   "cell_type": "code",
   "execution_count": 57,
   "id": "f09080e9",
   "metadata": {},
   "outputs": [
    {
     "data": {
      "text/plain": [
       "<re.Match object; span=(1, 2), match='a'>"
      ]
     },
     "execution_count": 57,
     "metadata": {},
     "output_type": "execute_result"
    }
   ],
   "source": [
    "re.search(r'[aeiou]', 'banana')"
   ]
  },
  {
   "cell_type": "code",
   "execution_count": 58,
   "id": "0268e657",
   "metadata": {},
   "outputs": [
    {
     "data": {
      "text/plain": [
       "['grey', 'gray']"
      ]
     },
     "execution_count": 58,
     "metadata": {},
     "output_type": "execute_result"
    }
   ],
   "source": [
    "re.findall(r'gr[ae]y', 'some grey, gray clouds')"
   ]
  },
  {
   "cell_type": "code",
   "execution_count": 59,
   "id": "89f17853",
   "metadata": {},
   "outputs": [
    {
     "data": {
      "text/plain": [
       "<re.Match object; span=(0, 1), match='a'>"
      ]
     },
     "execution_count": 59,
     "metadata": {},
     "output_type": "execute_result"
    }
   ],
   "source": [
    "# is only a single value\n",
    "\n",
    "re.search(r'[aeiou]{1}', 'a')"
   ]
  },
  {
   "cell_type": "code",
   "execution_count": 60,
   "id": "22d18cb9",
   "metadata": {},
   "outputs": [
    {
     "data": {
      "text/plain": [
       "<re.Match object; span=(0, 9), match='aeiouaeou'>"
      ]
     },
     "execution_count": 60,
     "metadata": {},
     "output_type": "execute_result"
    }
   ],
   "source": [
    "# is only vowels\n",
    "\n",
    "re.search(r'[aeiou]*$', 'aeiouaeou')"
   ]
  },
  {
   "cell_type": "code",
   "execution_count": 61,
   "id": "14656273",
   "metadata": {},
   "outputs": [
    {
     "data": {
      "text/plain": [
       "<re.Match object; span=(4, 5), match='q'>"
      ]
     },
     "execution_count": 61,
     "metadata": {},
     "output_type": "execute_result"
    }
   ],
   "source": [
    "# has a p or a q, anywhere\n",
    "\n",
    "re.search(r'p|q', 'albuquerque', re.IGNORECASE)"
   ]
  },
  {
   "cell_type": "code",
   "execution_count": 62,
   "id": "4c4cff81",
   "metadata": {},
   "outputs": [
    {
     "data": {
      "text/plain": [
       "<re.Match object; span=(4, 5), match='q'>"
      ]
     },
     "execution_count": 62,
     "metadata": {},
     "output_type": "execute_result"
    }
   ],
   "source": [
    "# has a p or a q, anywhere\n",
    "\n",
    "re.search(r'[pq]', 'albuquerque', re.IGNORECASE)"
   ]
  },
  {
   "cell_type": "code",
   "execution_count": 63,
   "id": "a34e4d3f",
   "metadata": {},
   "outputs": [
    {
     "data": {
      "text/plain": [
       "<re.Match object; span=(0, 20), match='qqpqpqpqpqpqQPQPQPQP'>"
      ]
     },
     "execution_count": 63,
     "metadata": {},
     "output_type": "execute_result"
    }
   ],
   "source": [
    "re.search(r'[pqPQ]*$', 'qqpqpqpqpqpqQPQPQPQP')\n",
    "\n",
    "# to the end, as long as its only p and q and starts with a p or a q"
   ]
  },
  {
   "cell_type": "code",
   "execution_count": 64,
   "id": "9bf65e1b",
   "metadata": {},
   "outputs": [
    {
     "data": {
      "text/plain": [
       "['civil blood', 'civil hands']"
      ]
     },
     "execution_count": 64,
     "metadata": {},
     "output_type": "execute_result"
    }
   ],
   "source": [
    "# find all the occurences of 'civil' followed by the word immediately after 'civil'\n",
    "\n",
    "re.findall(r'civil\\s[a-z]+', string)"
   ]
  },
  {
   "cell_type": "markdown",
   "id": "e6f31fca",
   "metadata": {},
   "source": [
    "## Repetition and special sequences"
   ]
  },
  {
   "cell_type": "markdown",
   "id": "522a420f",
   "metadata": {},
   "source": [
    "```.``` any single character.  \n",
    "```*``` zero or mroe chars.   \n",
    "```+``` one or omore chars.  \n",
    "```.``` matches any char  \n",
    "```\\b``` word boundary anchor.  \n",
    "```\\d``` matches any digit ; equivalent to [0-9]  \n",
    "```\\D``` any non-digit char ; equivalent to [^0-9]\n",
    "\n"
   ]
  },
  {
   "cell_type": "code",
   "execution_count": 65,
   "id": "26752044",
   "metadata": {},
   "outputs": [
    {
     "data": {
      "text/plain": [
       "<re.Match object; span=(4, 6), match='ou'>"
      ]
     },
     "execution_count": 65,
     "metadata": {},
     "output_type": "execute_result"
    }
   ],
   "source": [
    "# world without \\b boundard\n",
    "\n",
    "re.search(r'o\\w+', 'do you like apples or oranges ?')"
   ]
  },
  {
   "cell_type": "code",
   "execution_count": 66,
   "id": "c98ce910",
   "metadata": {},
   "outputs": [
    {
     "data": {
      "text/plain": [
       "<re.Match object; span=(19, 21), match='or'>"
      ]
     },
     "execution_count": 66,
     "metadata": {},
     "output_type": "execute_result"
    }
   ],
   "source": [
    "# \\b means work boundary any word that starts with o\n",
    "\n",
    "re.search(r'\\bo\\w+', 'do you like appels or orangs')"
   ]
  },
  {
   "cell_type": "code",
   "execution_count": 68,
   "id": "0482c202",
   "metadata": {},
   "outputs": [
    {
     "data": {
      "text/plain": [
       "['or', 'oranges']"
      ]
     },
     "execution_count": 68,
     "metadata": {},
     "output_type": "execute_result"
    }
   ],
   "source": [
    "# any word that starts with o\n",
    "\n",
    "re.findall(r'\\bo\\w+', 'do you like apples or oranges ?')"
   ]
  },
  {
   "cell_type": "code",
   "execution_count": null,
   "id": "cf44031e",
   "metadata": {},
   "outputs": [],
   "source": [
    "re.findall(r'\\bo\\w+', 'do you like apples or oranges ?')"
   ]
  },
  {
   "cell_type": "markdown",
   "id": "cf374004",
   "metadata": {},
   "source": [
    "# Groupings\n",
    "\n",
    "Capture specific groups."
   ]
  },
  {
   "cell_type": "code",
   "execution_count": 69,
   "id": "9681f4a1",
   "metadata": {},
   "outputs": [],
   "source": [
    "sentence = 'You can find us on the web at https://codeup.com, Our IP address is 123.123.123.123 (maybe)'"
   ]
  },
  {
   "cell_type": "code",
   "execution_count": 71,
   "id": "5d6cc6b0",
   "metadata": {},
   "outputs": [
    {
     "data": {
      "text/plain": [
       "('https', 'codeup', 'com')"
      ]
     },
     "execution_count": 71,
     "metadata": {},
     "output_type": "execute_result"
    }
   ],
   "source": [
    "url_re = r'(https?)://(\\w+)\\.(\\w+)'\n",
    "\n",
    "re.search(url_re, sentence).groups()"
   ]
  },
  {
   "cell_type": "code",
   "execution_count": 72,
   "id": "33bf3d18",
   "metadata": {},
   "outputs": [
    {
     "name": "stdout",
     "output_type": "stream",
     "text": [
      "\n",
      "protocol: https\n",
      "domain: codeup\n",
      "tld: com\n",
      "\n"
     ]
    }
   ],
   "source": [
    "# unpacking\n",
    "\n",
    "\n",
    "protocol, domaine, tld = re.search(url_re, sentence).groups()\n",
    "\n",
    "print(f'''\n",
    "protocol: {protocol}\n",
    "domain: {domaine}\n",
    "tld: {tld}\n",
    "''')"
   ]
  },
  {
   "cell_type": "code",
   "execution_count": 80,
   "id": "eea7ef7a",
   "metadata": {},
   "outputs": [],
   "source": [
    "\n",
    "\n",
    "#name inside of pattern\n",
    "\n",
    "url_re = r'(?P<protocol>https:?)://(?P<domain>\\w+)\\.(?P<tld>\\w+)'\n",
    "# <named protocol> folleowd by what to capture in capturegroup\n",
    "\n"
   ]
  },
  {
   "cell_type": "code",
   "execution_count": 81,
   "id": "4797c18e",
   "metadata": {},
   "outputs": [],
   "source": [
    "match = re.search(url_re, sentence)"
   ]
  },
  {
   "cell_type": "code",
   "execution_count": 82,
   "id": "b05c9c17",
   "metadata": {},
   "outputs": [
    {
     "data": {
      "text/plain": [
       "('https', 'codeup', 'com')"
      ]
     },
     "execution_count": 82,
     "metadata": {},
     "output_type": "execute_result"
    }
   ],
   "source": [
    "# matching all groups in 'match'\n",
    "match.groups()"
   ]
  },
  {
   "cell_type": "code",
   "execution_count": 85,
   "id": "f59a8570",
   "metadata": {},
   "outputs": [
    {
     "data": {
      "text/plain": [
       "'codeup'"
      ]
     },
     "execution_count": 85,
     "metadata": {},
     "output_type": "execute_result"
    }
   ],
   "source": [
    "# matching indicated group\n",
    "match.group('domain')"
   ]
  },
  {
   "cell_type": "code",
   "execution_count": 83,
   "id": "cffb0b99",
   "metadata": {},
   "outputs": [
    {
     "data": {
      "text/plain": [
       "{'protocol': 'https', 'domain': 'codeup', 'tld': 'com'}"
      ]
     },
     "execution_count": 83,
     "metadata": {},
     "output_type": "execute_result"
    }
   ],
   "source": [
    "# group dictionary\n",
    "\n",
    "match.groupdict()"
   ]
  },
  {
   "cell_type": "code",
   "execution_count": null,
   "id": "8d3c3bc7",
   "metadata": {},
   "outputs": [],
   "source": [
    "print(f'''\n",
    "groups:)"
   ]
  },
  {
   "cell_type": "code",
   "execution_count": 87,
   "id": "1ca91e9e",
   "metadata": {},
   "outputs": [
    {
     "name": "stdout",
     "output_type": "stream",
     "text": [
      "\n",
      "GET /api/v1/sales?page=86 [16/Apr/2019:193452+0000] HTTP/1.1 {200} 510348 \"python-requests/2.21.0\" 97.105.19.58\n",
      "POST /users_accounts/file-upload [16/Apr/2019:193452+0000] HTTP/1.1 {201} 42 \"User-Agent: Mozilla/5.0 (X11; Fedora; Fedora; Linux x86_64) AppleWebKit/537.36 (KHTML, like Gecko) Chrome/73.0.3683.86 Safari/537.36\" 97.105.19.58\n",
      "GET /api/v1/items?page=3 [16/Apr/2019:193453+0000] HTTP/1.1 {429} 3561 \"python-requests/2.21.0\" 97.105.19.58\n",
      "\n"
     ]
    }
   ],
   "source": [
    "#lines in a log\n",
    "\n",
    "logs = \"\"\"\n",
    "GET /api/v1/sales?page=86 [16/Apr/2019:193452+0000] HTTP/1.1 {200} 510348 \"python-requests/2.21.0\" 97.105.19.58\n",
    "POST /users_accounts/file-upload [16/Apr/2019:193452+0000] HTTP/1.1 {201} 42 \"User-Agent: Mozilla/5.0 (X11; Fedora; Fedora; Linux x86_64) AppleWebKit/537.36 (KHTML, like Gecko) Chrome/73.0.3683.86 Safari/537.36\" 97.105.19.58\n",
    "GET /api/v1/items?page=3 [16/Apr/2019:193453+0000] HTTP/1.1 {429} 3561 \"python-requests/2.21.0\" 97.105.19.58\n",
    "\"\"\"\n",
    "print(logs)"
   ]
  },
  {
   "cell_type": "code",
   "execution_count": 106,
   "id": "21c8df2c",
   "metadata": {},
   "outputs": [],
   "source": [
    "emails = [\"list_o_emails.surba@company.com\", 'jane.janeee@han.com']"
   ]
  },
  {
   "cell_type": "code",
   "execution_count": 122,
   "id": "9a20ad46",
   "metadata": {},
   "outputs": [],
   "source": [
    "pattern = re.compile(r'''\n",
    "(?P<first_name>\\w+)?\n",
    "\\.?\n",
    "(?P<last_name>\\w+)? \n",
    "\\@\n",
    "(?P<domain>\\w+)\n",
    "\\.\n",
    "(?P<tld>\\w+)\n",
    "''', re.VERBOSE)\n",
    "\n"
   ]
  },
  {
   "cell_type": "code",
   "execution_count": 123,
   "id": "3542e79e",
   "metadata": {},
   "outputs": [
    {
     "data": {
      "text/plain": [
       "[{'first_name': 'list_o_emails',\n",
       "  'last_name': 'surba',\n",
       "  'domain': 'company',\n",
       "  'tld': 'com'},\n",
       " {'first_name': 'jane', 'last_name': 'janeee', 'domain': 'han', 'tld': 'com'}]"
      ]
     },
     "execution_count": 123,
     "metadata": {},
     "output_type": "execute_result"
    }
   ],
   "source": [
    "[re.search(pattern, email).groupdict() for email in emails]"
   ]
  },
  {
   "cell_type": "markdown",
   "id": "2294f412",
   "metadata": {},
   "source": [
    "\n",
    "\n",
    "```re.MULTILINE``` : The ^ and $ anchors will apply line by line, instead of applying to start and end of the string.\n",
    "\n",
    "```re.IGNORECASE``` : Ignore character casing when matching.\n",
    "\n",
    "```re.VERBOSE``` : Ignore any whitespace in the regular expression. This can be useful to make more readable regular expressions, especially when combined with non-capturing comment groups."
   ]
  },
  {
   "cell_type": "code",
   "execution_count": null,
   "id": "a0f1f789",
   "metadata": {},
   "outputs": [],
   "source": []
  }
 ],
 "metadata": {
  "kernelspec": {
   "display_name": "Python 3 (ipykernel)",
   "language": "python",
   "name": "python3"
  },
  "language_info": {
   "codemirror_mode": {
    "name": "ipython",
    "version": 3
   },
   "file_extension": ".py",
   "mimetype": "text/x-python",
   "name": "python",
   "nbconvert_exporter": "python",
   "pygments_lexer": "ipython3",
   "version": "3.9.13"
  }
 },
 "nbformat": 4,
 "nbformat_minor": 5
}
